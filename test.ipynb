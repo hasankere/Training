{
 "cells": [
  {
   "cell_type": "code",
   "execution_count": 1,
   "metadata": {},
   "outputs": [],
   "source": [
    "import os\n",
    "\n",
    "import pandas as pd\n",
    "import re\n",
    "from wordcloud import WordCloud\n",
    "import matplotlib.pyplot as pl\n",
    "from collections import Counter\n",
    "from textblob import TextBlob\n",
    "from sklearn.feature_extraction.text import CountVectorizer\n",
    "from sklearn.decomposition import LatentDirichletAllocation\n",
    "import matplotlib.pyplot as plt\n",
    "from sklearn.feature_extraction.text import CountVectorizer\n",
    "from sklearn.decomposition import LatentDirichletAllocation"
   ]
  },
  {
   "cell_type": "code",
   "execution_count": 2,
   "metadata": {},
   "outputs": [],
   "source": [
    "import os\n",
    "\n",
    "# Define folder structure\n",
    "structure = {\n",
    "    \".vscode\": [\"settings.json\"],\n",
    "    \".github/workflows\": [\"unittests.yml\"],\n",
    "    \"src\": [\"__init__.py\"],\n",
    "    \"notebooks\": [\"__init__.py\", \"README.md\"],\n",
    "    \"tests\": [\"__init__.py\"],\n",
    "    \"scripts\": [\"__init__.py\", \"README.md\"],\n",
    "    \".\": [\".gitignore\", \"requirements.txt\", \"README.md\"],\n",
    "}\n",
    "\n",
    "# Create folders and files\n",
    "for folder, files in structure.items():\n",
    "    os.makedirs(folder, exist_ok=True)  # Create folder if it doesn't exist\n",
    "    for file in files:\n",
    "        open(os.path.join(folder, file), 'w').close()  # Create empty file\n"
   ]
  }
 ],
 "metadata": {
  "kernelspec": {
   "display_name": "Python 3",
   "language": "python",
   "name": "python3"
  },
  "language_info": {
   "codemirror_mode": {
    "name": "ipython",
    "version": 3
   },
   "file_extension": ".py",
   "mimetype": "text/x-python",
   "name": "python",
   "nbconvert_exporter": "python",
   "pygments_lexer": "ipython3",
   "version": "3.9.13"
  }
 },
 "nbformat": 4,
 "nbformat_minor": 2
}
