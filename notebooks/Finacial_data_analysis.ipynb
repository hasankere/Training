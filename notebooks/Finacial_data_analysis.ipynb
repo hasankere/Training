{
 "cells": [
  {
   "cell_type": "code",
   "execution_count": 1,
   "metadata": {},
   "outputs": [],
   "source": [
    "import os\n",
    "\n",
    "import pandas as pd\n",
    "import re\n",
    "from wordcloud import WordCloud\n",
    "import matplotlib.pyplot as pl\n",
    "from collections import Counter\n",
    "from textblob import TextBlob\n",
    "from sklearn.feature_extraction.text import CountVectorizer\n",
    "from sklearn.decomposition import LatentDirichletAllocation\n",
    "import matplotlib.pyplot as plt\n",
    "from sklearn.feature_extraction.text import CountVectorizer\n",
    "from sklearn.decomposition import LatentDirichletAllocation"
   ]
  },
  {
   "cell_type": "code",
   "execution_count": 2,
   "metadata": {},
   "outputs": [
    {
     "name": "stdout",
     "output_type": "stream",
     "text": [
      "         Date      Open      High       Low     Close  Adj Close     Volume  \\\n",
      "0  1980-12-12  0.128348  0.128906  0.128348  0.128348   0.098943  469033600   \n",
      "1  1980-12-15  0.122210  0.122210  0.121652  0.121652   0.093781  175884800   \n",
      "2  1980-12-16  0.113281  0.113281  0.112723  0.112723   0.086898  105728000   \n",
      "3  1980-12-17  0.115513  0.116071  0.115513  0.115513   0.089049   86441600   \n",
      "4  1980-12-18  0.118862  0.119420  0.118862  0.118862   0.091630   73449600   \n",
      "\n",
      "   Dividends  Stock Splits  \n",
      "0        0.0           0.0  \n",
      "1        0.0           0.0  \n",
      "2        0.0           0.0  \n",
      "3        0.0           0.0  \n",
      "4        0.0           0.0  \n"
     ]
    }
   ],
   "source": [
    "# Load the dataset\n",
    "data = pd.read_csv(\"C:\\\\Users\\\\Hasan\\\\Desktop\\\\data science folder\\\\AAPL_historical_data.csv\")\n",
    "\n",
    "# Display basic information\n",
    "print(data.head())"
   ]
  },
  {
   "cell_type": "code",
   "execution_count": 3,
   "metadata": {},
   "outputs": [
    {
     "name": "stdout",
     "output_type": "stream",
     "text": [
      "<class 'pandas.core.frame.DataFrame'>\n",
      "RangeIndex: 10998 entries, 0 to 10997\n",
      "Data columns (total 9 columns):\n",
      " #   Column        Non-Null Count  Dtype  \n",
      "---  ------        --------------  -----  \n",
      " 0   Date          10998 non-null  object \n",
      " 1   Open          10998 non-null  float64\n",
      " 2   High          10998 non-null  float64\n",
      " 3   Low           10998 non-null  float64\n",
      " 4   Close         10998 non-null  float64\n",
      " 5   Adj Close     10998 non-null  float64\n",
      " 6   Volume        10998 non-null  int64  \n",
      " 7   Dividends     10998 non-null  float64\n",
      " 8   Stock Splits  10998 non-null  float64\n",
      "dtypes: float64(7), int64(1), object(1)\n",
      "memory usage: 773.4+ KB\n",
      "None\n"
     ]
    }
   ],
   "source": [
    "print(data.info())"
   ]
  },
  {
   "cell_type": "code",
   "execution_count": 4,
   "metadata": {},
   "outputs": [
    {
     "name": "stdout",
     "output_type": "stream",
     "text": [
      "Date            0\n",
      "Open            0\n",
      "High            0\n",
      "Low             0\n",
      "Close           0\n",
      "Adj Close       0\n",
      "Volume          0\n",
      "Dividends       0\n",
      "Stock Splits    0\n",
      "dtype: int64\n"
     ]
    },
    {
     "name": "stderr",
     "output_type": "stream",
     "text": [
      "C:\\Users\\Hasan\\AppData\\Local\\Temp\\ipykernel_2120\\511988947.py:7: FutureWarning: DataFrame.fillna with 'method' is deprecated and will raise in a future version. Use obj.ffill() or obj.bfill() instead.\n",
      "  data.fillna(method='ffill', inplace=True)  # Forward-fill missing data\n"
     ]
    }
   ],
   "source": [
    "# Check for missing values\n",
    "print(data.isnull().sum())\n",
    "\n",
    "# Fill or drop missing values\n",
    "data = data.dropna()  # Drop rows with missing values\n",
    "# OR\n",
    "data.fillna(method='ffill', inplace=True)  # Forward-fill missing data"
   ]
  },
  {
   "cell_type": "code",
   "execution_count": 5,
   "metadata": {},
   "outputs": [],
   "source": [
    "data['Date'] = pd.to_datetime(data['Date'])\n",
    "data.set_index('Date', inplace=True)  # Set Date as the index if it's time-series data"
   ]
  },
  {
   "cell_type": "code",
   "execution_count": 6,
   "metadata": {},
   "outputs": [
    {
     "name": "stdout",
     "output_type": "stream",
     "text": [
      "               Open          High           Low         Close     Adj Close  \\\n",
      "count  10998.000000  10998.000000  10998.000000  10998.000000  10998.000000   \n",
      "mean      22.299160     22.539055     22.068367     22.312754     21.494496   \n",
      "std       46.003685     46.496031     45.540929     46.037660     45.561916   \n",
      "min        0.049665      0.049665      0.049107      0.049107      0.037857   \n",
      "25%        0.299107      0.303710      0.290179      0.298549      0.241840   \n",
      "50%        0.531250      0.537946      0.522321      0.531250      0.432079   \n",
      "75%       20.204196     20.389554     19.998036     20.196160     17.253029   \n",
      "max      236.479996    237.229996    233.089996    234.820007    234.548523   \n",
      "\n",
      "             Volume     Dividends  Stock Splits  \n",
      "count  1.099800e+04  10998.000000  10998.000000  \n",
      "mean   3.180806e+08      0.000752      0.001546  \n",
      "std    3.354523e+08      0.011753      0.083663  \n",
      "min    0.000000e+00      0.000000      0.000000  \n",
      "25%    1.132545e+08      0.000000      0.000000  \n",
      "50%    2.057412e+08      0.000000      0.000000  \n",
      "75%    3.985275e+08      0.000000      0.000000  \n",
      "max    7.421641e+09      0.250000      7.000000  \n"
     ]
    }
   ],
   "source": [
    "print(data.describe())"
   ]
  }
 ],
 "metadata": {
  "kernelspec": {
   "display_name": "Python 3",
   "language": "python",
   "name": "python3"
  },
  "language_info": {
   "codemirror_mode": {
    "name": "ipython",
    "version": 3
   },
   "file_extension": ".py",
   "mimetype": "text/x-python",
   "name": "python",
   "nbconvert_exporter": "python",
   "pygments_lexer": "ipython3",
   "version": "3.9.13"
  }
 },
 "nbformat": 4,
 "nbformat_minor": 2
}
